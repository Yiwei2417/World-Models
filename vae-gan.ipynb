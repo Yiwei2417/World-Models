{
  "nbformat": 4,
  "nbformat_minor": 0,
  "metadata": {
    "kernelspec": {
      "display_name": "Python 3",
      "language": "python",
      "name": "python3"
    },
    "language_info": {
      "codemirror_mode": {
        "name": "ipython",
        "version": 3
      },
      "file_extension": ".py",
      "mimetype": "text/x-python",
      "name": "python",
      "nbconvert_exporter": "python",
      "pygments_lexer": "ipython3",
      "version": "3.7.5"
    },
    "colab": {
      "name": "vae-gan.ipynb",
      "provenance": []
    }
  },
  "cells": [
    {
      "cell_type": "code",
      "metadata": {
        "id": "D2rFnVtpeqhI"
      },
      "source": [
        "import tensorflow.keras as keras\n",
        "import os\n",
        "import numpy as np\n",
        "import matplotlib.pyplot as plt\n",
        "import matplotlib.animation\n",
        "import tensorflow as tf\n",
        "import datetime\n",
        "import sys"
      ],
      "execution_count": null,
      "outputs": []
    },
    {
      "cell_type": "code",
      "metadata": {
        "id": "AtOdgLbMeqhO",
        "outputId": "23c59592-9c68-444a-c68d-4a5d507bec92"
      },
      "source": [
        "tf.config.experimental.list_physical_devices('GPU')"
      ],
      "execution_count": null,
      "outputs": [
        {
          "output_type": "execute_result",
          "data": {
            "text/plain": [
              "[PhysicalDevice(name='/physical_device:GPU:0', device_type='GPU')]"
            ]
          },
          "metadata": {
            "tags": []
          },
          "execution_count": 2
        }
      ]
    },
    {
      "cell_type": "markdown",
      "metadata": {
        "id": "jAQ2AtipeqhP"
      },
      "source": [
        "## Input dataset\n",
        "Dataset used is celebA : https://www.kaggle.com/jessicali9530/celeba-dataset"
      ]
    },
    {
      "cell_type": "code",
      "metadata": {
        "id": "PHV29bZzv5xu"
      },
      "source": [
        "from utils import PARSER\n",
        "args = PARSER.parse_args(['--config_path', 'configs/carracing.config'])\n",
        "\n",
        "DATA_DIR = \"results/{}/{}/record\".format(args.exp_name, args.env_name)\n",
        "model_path_name = \"results/{}/{}/tf_vae\".format(args.exp_name, args.env_name)\n",
        "\n",
        "\n",
        "filelist = os.listdir(DATA_DIR)\n",
        "\n",
        "obs = np.load(os.path.join(DATA_DIR, random.choice(filelist)))[\"obs\"]\n",
        "obs = obs.astype(np.float32)/255.0\n",
        "\n",
        "im_dataset = random.choice(obs).reshape(1, 64, 64, 3)\n",
        "\n",
        "IM_DIM = 64\n",
        "@tf.function\n",
        "def im_preprocessing(im_path) :\n",
        "    im_file = tf.io.read_file(im_path)\n",
        "    im = tf.io.decode_jpeg(im_file)\n",
        "    im = tf.image.convert_image_dtype(im, tf.float32)\n",
        "    #im = tf.image.crop_to_bounding_box(im, 20,0,178,178)\n",
        "    im = tf.image.resize(im, [IM_DIM, IM_DIM])\n",
        "    im = tf.image.random_flip_left_right(im)\n",
        "    return(im)\n",
        "\n",
        "batch_size = 32\n",
        "\n",
        "im_dataset_repeated = im_dataset.repeat()\n",
        "im_dataset_batch = im_dataset_repeated.batch(batch_size)\n",
        "\n",
        "for x in im_dataset.take(1) :\n",
        "    print(x.numpy().shape)\n",
        "    print(\"len dataset : \", tf.data.experimental.cardinality(im_dataset).numpy())\n",
        "    plt.imshow(x)\n",
        "\n",
        "batch_gen = iter(im_dataset_batch)"
      ],
      "execution_count": null,
      "outputs": []
    },
    {
      "cell_type": "code",
      "metadata": {
        "id": "iX-i6VIzeqhP",
        "outputId": "319365c8-54ff-4761-ec29-41df00e2a47f"
      },
      "source": [
        "\"\"\"\n",
        "IM_DIM = 64\n",
        "@tf.function\n",
        "def im_preprocessing(im_path) :\n",
        "    im_file = tf.io.read_file(im_path)\n",
        "    im = tf.io.decode_jpeg(im_file)\n",
        "    im = tf.image.convert_image_dtype(im, tf.float32)\n",
        "    #im = tf.image.crop_to_bounding_box(im, 20,0,178,178)\n",
        "    im = tf.image.resize(im, [IM_DIM, IM_DIM])\n",
        "    im = tf.image.random_flip_left_right(im)\n",
        "    return(im)\n",
        "\n",
        "batch_size = 32\n",
        "im_patern = \"./data/img_align_celeba/img_align_celeba/*.jpg\"\n",
        "files_dataset = tf.data.Dataset.list_files(im_patern)\n",
        "im_dataset = files_dataset.map(im_preprocessing)\n",
        "im_dataset_repeated = im_dataset.repeat()\n",
        "im_dataset_batch = im_dataset_repeated.batch(batch_size)\n",
        "\n",
        "for x in im_dataset.take(1) :\n",
        "    print(x.numpy().shape)\n",
        "    print(\"len dataset : \", tf.data.experimental.cardinality(im_dataset).numpy())\n",
        "    plt.imshow(x)\n",
        "    \n",
        "batch_gen = iter(im_dataset_batch)\n",
        "\"\"\""
      ],
      "execution_count": null,
      "outputs": [
        {
          "output_type": "stream",
          "text": [
            "(64, 64, 3)\n",
            "len dataset :  202599\n"
          ],
          "name": "stdout"
        },
        {
          "output_type": "display_data",
          "data": {
            "image/png": "[encoded data removed]",
            "text/plain": [
              "<Figure size 432x288 with 1 Axes>"
            ]
          },
          "metadata": {
            "tags": [],
            "needs_background": "light"
          }
        }
      ]
    },
    {
      "cell_type": "markdown",
      "metadata": {
        "id": "5tnDqzk_eqhQ"
      },
      "source": [
        "## Making models"
      ]
    },
    {
      "cell_type": "code",
      "metadata": {
        "id": "bCBuEh9weqhQ"
      },
      "source": [
        "DEPTH = 32\n",
        "LATENT_DEPTH = 512\n",
        "K_SIZE = 5"
      ],
      "execution_count": null,
      "outputs": []
    },
    {
      "cell_type": "code",
      "metadata": {
        "id": "hY5_rukLeqhQ"
      },
      "source": [
        "def sampling(args):\n",
        "    mean, logsigma = args\n",
        "    epsilon = keras.backend.random_normal(shape=keras.backend.shape(mean))\n",
        "    return mean + tf.exp(logsigma / 2) * epsilon\n",
        "\n",
        "def encoder():\n",
        "    input_E = keras.layers.Input(shape=(IM_DIM, IM_DIM, 3))\n",
        "    \n",
        "    X = keras.layers.Conv2D(filters=DEPTH*2, kernel_size=K_SIZE, strides=2, padding='same')(input_E)\n",
        "    X = keras.layers.BatchNormalization()(X)\n",
        "    X = keras.layers.LeakyReLU(alpha=0.2)(X)\n",
        "\n",
        "    X = keras.layers.Conv2D(filters=DEPTH*4, kernel_size=K_SIZE, strides=2, padding='same')(X)\n",
        "    X = keras.layers.BatchNormalization()(X)\n",
        "    X = keras.layers.LeakyReLU(alpha=0.2)(X)\n",
        "\n",
        "    X = keras.layers.Conv2D(filters=DEPTH*8, kernel_size=K_SIZE, strides=2, padding='same')(X)\n",
        "    X = keras.layers.BatchNormalization()(X)\n",
        "    X = keras.layers.LeakyReLU(alpha=0.2)(X)\n",
        "    \n",
        "    X = keras.layers.Flatten()(X)\n",
        "    X = keras.layers.Dense(LATENT_DEPTH)(X)    \n",
        "    X = keras.layers.BatchNormalization()(X)\n",
        "    X = keras.layers.LeakyReLU(alpha=0.2)(X)\n",
        "    \n",
        "    mean = keras.layers.Dense(LATENT_DEPTH,activation=\"tanh\")(X)\n",
        "    logsigma = keras.layers.Dense(LATENT_DEPTH,activation=\"tanh\")(X)\n",
        "    latent = keras.layers.Lambda(sampling, output_shape=(LATENT_DEPTH,))([mean, logsigma])\n",
        "    \n",
        "    kl_loss = 1 + logsigma - keras.backend.square(mean) - keras.backend.exp(logsigma)\n",
        "    kl_loss = keras.backend.mean(kl_loss, axis=-1)\n",
        "    kl_loss *= -0.5\n",
        "    \n",
        "    return keras.models.Model(input_E, [latent,kl_loss])\n",
        "\n",
        "def generator():\n",
        "    input_G = keras.layers.Input(shape=(LATENT_DEPTH,))\n",
        "\n",
        "    X = keras.layers.Dense(8*8*DEPTH*8)(input_G)\n",
        "    X = keras.layers.BatchNormalization()(X)\n",
        "    X = keras.layers.LeakyReLU(alpha=0.2)(X)\n",
        "    X = keras.layers.Reshape((8, 8, DEPTH * 8))(X)\n",
        "    \n",
        "    X = keras.layers.Conv2DTranspose(filters=DEPTH*8, kernel_size=K_SIZE, strides=2, padding='same')(X)\n",
        "    X = keras.layers.BatchNormalization()(X)\n",
        "    X = keras.layers.LeakyReLU(alpha=0.2)(X)\n",
        "\n",
        "    X = keras.layers.Conv2DTranspose(filters=DEPTH*4, kernel_size=K_SIZE, strides=2, padding='same')(X)\n",
        "    X = keras.layers.BatchNormalization()(X)\n",
        "    X = keras.layers.LeakyReLU(alpha=0.2)(X)\n",
        "    \n",
        "    X = keras.layers.Conv2DTranspose(filters=DEPTH, kernel_size=K_SIZE, strides=2, padding='same')(X)\n",
        "    X = keras.layers.BatchNormalization()(X)\n",
        "    X = keras.layers.LeakyReLU(alpha=0.2)(X)\n",
        "    \n",
        "    X = keras.layers.Conv2D(filters=3, kernel_size=K_SIZE, padding='same')(X)\n",
        "    X = keras.layers.Activation('sigmoid')(X)\n",
        "\n",
        "    return keras.models.Model(input_G, X)\n",
        "\n",
        "def discriminator():\n",
        "    input_D = keras.layers.Input(shape=(IM_DIM, IM_DIM, 3))\n",
        "    \n",
        "    X = keras.layers.Conv2D(filters=DEPTH, kernel_size=K_SIZE, strides=2, padding='same')(input_D)\n",
        "    X = keras.layers.LeakyReLU(alpha=0.2)(X)\n",
        "    \n",
        "    X = keras.layers.Conv2D(filters=DEPTH*4, kernel_size=K_SIZE, strides=2, padding='same')(input_D)\n",
        "    X = keras.layers.LeakyReLU(alpha=0.2)(X)\n",
        "    X = keras.layers.BatchNormalization()(X)\n",
        "\n",
        "    X = keras.layers.Conv2D(filters=DEPTH*8, kernel_size=K_SIZE, strides=2, padding='same')(X)\n",
        "    X = keras.layers.BatchNormalization()(X)\n",
        "    X = keras.layers.LeakyReLU(alpha=0.2)(X)\n",
        "\n",
        "    X = keras.layers.Conv2D(filters=DEPTH*8, kernel_size=K_SIZE, padding='same')(X)\n",
        "    inner_output = keras.layers.Flatten()(X)\n",
        "    X = keras.layers.BatchNormalization()(X)\n",
        "    X = keras.layers.LeakyReLU(alpha=0.2)(X)\n",
        "    \n",
        "    X = keras.layers.Flatten()(X)\n",
        "    X = keras.layers.Dense(DEPTH*8)(X)\n",
        "    X = keras.layers.BatchNormalization()(X)\n",
        "    X = keras.layers.LeakyReLU(alpha=0.2)(X)\n",
        "    \n",
        "    output = keras.layers.Dense(1)(X)    \n",
        "    \n",
        "    return keras.models.Model(input_D, [output, inner_output])"
      ],
      "execution_count": null,
      "outputs": []
    },
    {
      "cell_type": "markdown",
      "metadata": {
        "id": "rZOIFFHXeqhR"
      },
      "source": [
        "## Training"
      ]
    },
    {
      "cell_type": "code",
      "metadata": {
        "id": "ZVlJ1TrveqhS"
      },
      "source": [
        "for x in im_dataset_batch.take(1) :\n",
        "    test_images = x\n",
        "test_r = tf.random.normal((batch_size, LATENT_DEPTH))"
      ],
      "execution_count": null,
      "outputs": []
    },
    {
      "cell_type": "code",
      "metadata": {
        "id": "oTreXiZneqhS"
      },
      "source": [
        "E = encoder()\n",
        "G = generator()\n",
        "D = discriminator() "
      ],
      "execution_count": null,
      "outputs": []
    },
    {
      "cell_type": "code",
      "metadata": {
        "id": "ehQtIPxDeqhS",
        "outputId": "09c13c59-fcdc-4a2d-befe-35e5bd2f45d9"
      },
      "source": [
        "lr=0.0001\n",
        "#lr=0.0001\n",
        "E_opt = keras.optimizers.Adam(lr=lr)\n",
        "G_opt = keras.optimizers.Adam(lr=lr)\n",
        "D_opt = keras.optimizers.Adam(lr=lr)\n",
        "\n",
        "inner_loss_coef = 1\n",
        "normal_coef = 0.1\n",
        "kl_coef = 0.01\n",
        "\n",
        "@tf.function\n",
        "def train_step_vaegan(x):\n",
        "    lattent_r =  tf.random.normal((batch_size, LATENT_DEPTH))\n",
        "    with tf.GradientTape(persistent=True) as tape :\n",
        "        lattent,kl_loss = E(x)\n",
        "        fake = G(lattent)\n",
        "        dis_fake,dis_inner_fake = D(fake)\n",
        "        dis_fake_r,_ = D(G(lattent_r))\n",
        "        dis_true,dis_inner_true = D(x)\n",
        "\n",
        "        vae_inner = dis_inner_fake-dis_inner_true\n",
        "        vae_inner = vae_inner*vae_inner\n",
        "        \n",
        "        mean,var = tf.nn.moments(E(x)[0], axes=0)\n",
        "        var_to_one = var - 1\n",
        "        \n",
        "        normal_loss = tf.reduce_mean(mean*mean) + tf.reduce_mean(var_to_one*var_to_one)\n",
        "        \n",
        "        kl_loss = tf.reduce_mean(kl_loss)\n",
        "        vae_diff_loss = tf.reduce_mean(vae_inner)\n",
        "        f_dis_loss = tf.reduce_mean(tf.nn.sigmoid_cross_entropy_with_logits(tf.zeros_like(dis_fake), dis_fake))\n",
        "        r_dis_loss = tf.reduce_mean(tf.nn.sigmoid_cross_entropy_with_logits(tf.zeros_like(dis_fake_r), dis_fake_r))\n",
        "        t_dis_loss = tf.reduce_mean(tf.nn.sigmoid_cross_entropy_with_logits(tf.ones_like(dis_true), dis_true))\n",
        "        gan_loss = (0.5*t_dis_loss + 0.25*f_dis_loss + 0.25*r_dis_loss)\n",
        "        vae_loss = tf.reduce_mean(tf.abs(x-fake)) \n",
        "        E_loss = vae_diff_loss + kl_coef*kl_loss + normal_coef*normal_loss\n",
        "        G_loss = inner_loss_coef*vae_diff_loss - gan_loss\n",
        "        D_loss = gan_loss\n",
        "    \n",
        "    E_grad = tape.gradient(E_loss,E.trainable_variables)\n",
        "    G_grad = tape.gradient(G_loss,G.trainable_variables)\n",
        "    D_grad = tape.gradient(D_loss,D.trainable_variables)\n",
        "    del tape\n",
        "    E_opt.apply_gradients(zip(E_grad, E.trainable_variables))\n",
        "    G_opt.apply_gradients(zip(G_grad, G.trainable_variables))\n",
        "    D_opt.apply_gradients(zip(D_grad, D.trainable_variables))\n",
        "\n",
        "    return [gan_loss, vae_loss, f_dis_loss, r_dis_loss, t_dis_loss, vae_diff_loss, E_loss, D_loss, kl_loss, normal_loss]\n",
        "\n",
        "step = 0\n",
        "max_step = 10000000\n",
        "log_freq,img_log_freq = 10, 100\n",
        "save_freq,save_number_mult = 1000, 10000\n",
        "\n",
        "metrics_names = [\"gan_loss\", \"vae_loss\", \"fake_dis_loss\", \"r_dis_loss\", \"t_dis_loss\", \"vae_inner_loss\", \"E_loss\", \"D_loss\", \"kl_loss\", \"normal_loss\"]\n",
        "metrics = []\n",
        "for m in metrics_names :\n",
        "    metrics.append(tf.keras.metrics.Mean('m', dtype=tf.float32))\n",
        "\n",
        "current_time = datetime.datetime.now().strftime(\"%Y%m%d-%H%M%S\")\n",
        "train_log_dir = ('logs/sep_D%dL%d/' % (DEPTH,LATENT_DEPTH)) + current_time \n",
        "train_summary_writer = tf.summary.create_file_writer(train_log_dir)\n",
        "name = ('sep_D%dL%d' % (DEPTH,LATENT_DEPTH))\n",
        "\n",
        "def save_model() :\n",
        "    nb = str(step // save_number_mult)\n",
        "    D.save('saved-models/D_training_' + nb + '.h5')\n",
        "    G.save('saved-models/G_training_' + nb + '.h5')\n",
        "    E.save('saved-models/E_training_' + nb + '.h5')\n",
        "\n",
        "def print_metrics() :\n",
        "    s = \"\"\n",
        "    for name,metric in zip(metrics_names,metrics) :\n",
        "        s+= \" \" + name + \" \" + str(np.around(metric.result().numpy(), 3)) \n",
        "    print(f\"\\rStep : \" + str(step) + \" \" + s, end=\"\", flush=True)\n",
        "    with train_summary_writer.as_default():\n",
        "        for name,metric in zip(metrics_names,metrics) :\n",
        "            tf.summary.scalar(name, metric.result(), step=step)\n",
        "    for metric in metrics : \n",
        "        metric.reset_states()\n",
        "\n",
        "        \n",
        "def log_images() :\n",
        "    with train_summary_writer.as_default():\n",
        "        lattent,_ = E(test_images)\n",
        "        fake = G(lattent)\n",
        "        fake_r = G(test_r)\n",
        "        tf.summary.image(\"reconstructed image\", fake[:8], step=step, max_outputs=8)\n",
        "        tf.summary.image(\"random image\", fake_r[:8], step=step, max_outputs=8)\n",
        "        dis_fake,inner_dis_fake = D(fake)\n",
        "        dis_fake_r,inner_dis_fake_r = D(fake_r)\n",
        "        dis_true,inner_dis_true = D(test_images)\n",
        "        tf.summary.histogram(\"dis fake\", inner_dis_fake, step=step, buckets=20)\n",
        "        tf.summary.histogram(\"dis true\", inner_dis_true, step=step, buckets=20)\n",
        "        tf.summary.histogram(\"dis random\", inner_dis_fake_r, step=step, buckets=20)\n",
        "        tf.summary.histogram(\"dis lattent\", lattent, step=step, buckets=20)\n",
        "        tf.summary.histogram(\"dis normal\", tf.random.normal((batch_size, LATENT_DEPTH)), step=step, buckets=20)        \n",
        "\n",
        "for x in batch_gen :\n",
        "    step += 1\n",
        "    if not step % log_freq :\n",
        "        print_metrics()\n",
        "    if not step % img_log_freq :\n",
        "        log_images()\n",
        "    if not step % save_freq :\n",
        "        save_model()\n",
        "    \n",
        "    results = train_step_vaegan(x)\n",
        "    for metric,result in zip(metrics, results) :\n",
        "        metric(result)"
      ],
      "execution_count": null,
      "outputs": [
        {
          "output_type": "stream",
          "text": [
            "Step : 14900  gan_loss 0.171 vae_loss 0.182 fake_dis_loss 0.319 r_dis_loss 0.066 t_dis_loss 0.15 vae_inner_loss 0.021 E_loss 0.034 D_loss 0.171 kl_loss 0.16 normal_loss 0.10708"
          ],
          "name": "stdout"
        }
      ]
    }
  ]
}